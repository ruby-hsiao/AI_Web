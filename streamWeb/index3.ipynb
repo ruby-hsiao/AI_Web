{
 "cells": [
  {
   "cell_type": "code",
   "execution_count": 2,
   "metadata": {},
   "outputs": [
    {
     "data": {
      "text/plain": [
       "array([[-1.04585809,  0.42819314, -0.50274735],\n",
       "       [-0.85925106, -0.28611497,  0.47049234],\n",
       "       [-0.45158047, -0.55314899,  0.5455355 ],\n",
       "       [ 0.62072904,  0.76229136, -0.09165355],\n",
       "       [ 0.88016999, -0.43053167,  0.10821181]])"
      ]
     },
     "execution_count": 2,
     "metadata": {},
     "output_type": "execute_result"
    },
    {
     "name": "stderr",
     "output_type": "stream",
     "text": [
      "Bad pipe message: %s [b'0.9,image/avif,image/webp,image/apng,*/*;q=0.8,application/signed-exchange;v=b3;q=0.7\\r\\nHost: localhost:45283\\r\\nUs', b'-Agent: Mozilla/5.0 (Windows NT 10.0; Win64; x64) AppleWebKit/537.36 (KHTML, like Gecko) Chrome/126.']\n",
      "Bad pipe message: %s [b'0.0 Safari/537.36\\r\\nAccept-Encoding: gzip, defla']\n",
      "Bad pipe message: %s [b', br, zstd\\r\\nAccept-Language: zh-TW,zh;q=0.9,en-US;q=0.8,en;q=0.7\\r\\nCache-Control: max-age=0\\r\\nReferer: https://didact', b'-cod-pjjgqr6xwx7p37x4r.github.dev/\\r\\nX-Request-ID: e65a8ef2ea3eaaf93b954184fec3730b\\r\\nX-Real-IP: 10.240.1.', b'\\r\\nX-Forwarded-Port: 443\\r\\nX-Forwarded-Scheme: https']\n",
      "Bad pipe message: %s [b'X-Original-U']\n",
      "Bad pipe message: %s [b': /\\r\\nX-Scheme: https\\r\\nsec-fetch-site: same-site\\r\\nsec-fetch-mode: navigate\\r\\nsec-fe', b'h-dest: document\\r\\nsec-ch-ua: \"Not/A)Brand\";v=\"8\", \"Chromium\";v=\"126\", \"Google Chrome\";v=\"126\"\\r\\nsec-ch-ua-mobile: ?0', b'sec-ch-ua-pl']\n",
      "Bad pipe message: %s [b'form: \"Windows\"\\r\\npriority: u=0, i\\r\\nX-Original-Proto: https\\r\\nCookie: ajs_anonymous_id=d1c412e1-8d']\n",
      "Bad pipe message: %s [b'-4d37-9afb-07ac523c98f2\\r\\nX-Forwarded-Proto: https\\r\\nX-Fo']\n"
     ]
    }
   ],
   "source": [
    "import numpy as np\n",
    "\n",
    "np.random.randn(5,3)"
   ]
  }
 ],
 "metadata": {
  "kernelspec": {
   "display_name": "Python 3",
   "language": "python",
   "name": "python3"
  },
  "language_info": {
   "codemirror_mode": {
    "name": "ipython",
    "version": 3
   },
   "file_extension": ".py",
   "mimetype": "text/x-python",
   "name": "python",
   "nbconvert_exporter": "python",
   "pygments_lexer": "ipython3",
   "version": "3.10.14"
  }
 },
 "nbformat": 4,
 "nbformat_minor": 2
}
