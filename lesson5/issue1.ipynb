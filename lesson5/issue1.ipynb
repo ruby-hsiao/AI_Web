{
 "cells": [
  {
   "cell_type": "code",
   "execution_count": 7,
   "metadata": {},
   "outputs": [
    {
     "name": "stdout",
     "output_type": "stream",
     "text": [
      "輸入的身高或體重不是數字0:  float division by zero\n"
     ]
    }
   ],
   "source": [
    "try:\n",
    "\t\n",
    "\tname = input(\"請輸入姓名:\")\n",
    "\th = float(input(\"請輸入身高(cm):\"))\n",
    "\tw = float(input(\"請輸入體重(kg):\"))\n",
    "\tBMI = w / (h/100) ** 2\n",
    "\t\n",
    "#except ValueError as err:\n",
    "#    print(\"輸入的身高或體重不是數字: \", err)\n",
    "\n",
    "except Exception as err:\n",
    "\tprint(\"輸入的身高或體重不是數字: \", err)\n",
    "\n",
    "else:\n",
    "\t\n",
    "\tif BMI < 18.5:\n",
    "\t\tresult = \"體重過輕\"\n",
    "\telif BMI < 24:\n",
    "\t\tresult = \"正常範圍\"\n",
    "\telif BMI < 27:\n",
    "\t\tresult = \"過重\"\n",
    "\telif BMI < 30:\n",
    "\t\tresult = \"輕度肥胖\"\t\t\n",
    "\telif BMI < 35:\n",
    "\t\tresult = \"中度肥胖\"\n",
    "\telse:\n",
    "\t\tresult = \"重度肥胖\"\n",
    "\t\t\n",
    "\tprint(name, \"您好\")\n",
    "\tprint(\"您的BMI是:\", round(BMI, 2))\n",
    "\tprint(\"您的體重:\", result)"
   ]
  }
 ],
 "metadata": {
  "kernelspec": {
   "display_name": "Python 3",
   "language": "python",
   "name": "python3"
  },
  "language_info": {
   "codemirror_mode": {
    "name": "ipython",
    "version": 3
   },
   "file_extension": ".py",
   "mimetype": "text/x-python",
   "name": "python",
   "nbconvert_exporter": "python",
   "pygments_lexer": "ipython3",
   "version": "3.10.14"
  }
 },
 "nbformat": 4,
 "nbformat_minor": 2
}
