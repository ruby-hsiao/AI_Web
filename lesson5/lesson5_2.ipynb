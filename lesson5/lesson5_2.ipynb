{
 "cells": [
  {
   "cell_type": "code",
   "execution_count": 2,
   "metadata": {},
   "outputs": [
    {
     "name": "stdout",
     "output_type": "stream",
     "text": [
      "Can not vote.\n",
      "Can not drive car.\n",
      "Program end\n"
     ]
    }
   ],
   "source": [
    "# Python if else condition\n",
    "\n",
    "age = 14\n",
    "if age >= 18:\n",
    "    print(\"Can vote.\")\n",
    "    print(\"Can drive car.\")\n",
    "else:\n",
    "    print(\"Can not vote.\")\n",
    "    print(\"Can not drive car.\")\n",
    "\n",
    "print(\"Program end\")"
   ]
  }
 ],
 "metadata": {
  "kernelspec": {
   "display_name": "Python 3",
   "language": "python",
   "name": "python3"
  },
  "language_info": {
   "codemirror_mode": {
    "name": "ipython",
    "version": 3
   },
   "file_extension": ".py",
   "mimetype": "text/x-python",
   "name": "python",
   "nbconvert_exporter": "python",
   "pygments_lexer": "ipython3",
   "version": "3.10.14"
  }
 },
 "nbformat": 4,
 "nbformat_minor": 2
}
