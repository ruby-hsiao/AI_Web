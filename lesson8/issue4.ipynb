{
 "cells": [
  {
   "cell_type": "code",
   "execution_count": 5,
   "metadata": {},
   "outputs": [
    {
     "ename": "ValidationError",
     "evalue": "1 validation error for Factory\n  Invalid JSON: expected value at line 7 column 1 [type=json_invalid, input_value='\\n\\n\\n\\n\\n\\n<!DOCTYPE ht...n  </body>\\n</html>\\n\\n', input_type=str]\n    For further information visit https://errors.pydantic.dev/2.7/v/json_invalid",
     "output_type": "error",
     "traceback": [
      "\u001b[0;31m---------------------------------------------------------------------------\u001b[0m",
      "\u001b[0;31mValidationError\u001b[0m                           Traceback (most recent call last)",
      "Cell \u001b[0;32mIn[5], line 18\u001b[0m\n\u001b[1;32m     16\u001b[0m \u001b[38;5;28;01mwith\u001b[39;00m \u001b[38;5;28mopen\u001b[39m(\u001b[38;5;124m'\u001b[39m\u001b[38;5;124mNTC_Food_Factorys.json\u001b[39m\u001b[38;5;124m'\u001b[39m,encoding\u001b[38;5;241m=\u001b[39m\u001b[38;5;124m'\u001b[39m\u001b[38;5;124mutf-8\u001b[39m\u001b[38;5;124m'\u001b[39m) \u001b[38;5;28;01mas\u001b[39;00m file:\n\u001b[1;32m     17\u001b[0m     content:\u001b[38;5;28mstr\u001b[39m \u001b[38;5;241m=\u001b[39m file\u001b[38;5;241m.\u001b[39mread()\n\u001b[0;32m---> 18\u001b[0m     fac:Factory \u001b[38;5;241m=\u001b[39m \u001b[43mFactory\u001b[49m\u001b[38;5;241;43m.\u001b[39;49m\u001b[43mmodel_validate_json\u001b[49m\u001b[43m(\u001b[49m\u001b[43mcontent\u001b[49m\u001b[43m)\u001b[49m\n\u001b[1;32m     20\u001b[0m sites:\u001b[38;5;28mlist\u001b[39m[Sites] \u001b[38;5;241m=\u001b[39m fac\u001b[38;5;241m.\u001b[39mrecords\n\u001b[1;32m     22\u001b[0m \u001b[38;5;28;01mtry\u001b[39;00m:\n",
      "File \u001b[0;32m~/.local/lib/python3.10/site-packages/pydantic/main.py:580\u001b[0m, in \u001b[0;36mBaseModel.model_validate_json\u001b[0;34m(cls, json_data, strict, context)\u001b[0m\n\u001b[1;32m    578\u001b[0m \u001b[38;5;66;03m# `__tracebackhide__` tells pytest and some other tools to omit this function from tracebacks\u001b[39;00m\n\u001b[1;32m    579\u001b[0m __tracebackhide__ \u001b[38;5;241m=\u001b[39m \u001b[38;5;28;01mTrue\u001b[39;00m\n\u001b[0;32m--> 580\u001b[0m \u001b[38;5;28;01mreturn\u001b[39;00m \u001b[38;5;28;43mcls\u001b[39;49m\u001b[38;5;241;43m.\u001b[39;49m\u001b[43m__pydantic_validator__\u001b[49m\u001b[38;5;241;43m.\u001b[39;49m\u001b[43mvalidate_json\u001b[49m\u001b[43m(\u001b[49m\u001b[43mjson_data\u001b[49m\u001b[43m,\u001b[49m\u001b[43m \u001b[49m\u001b[43mstrict\u001b[49m\u001b[38;5;241;43m=\u001b[39;49m\u001b[43mstrict\u001b[49m\u001b[43m,\u001b[49m\u001b[43m \u001b[49m\u001b[43mcontext\u001b[49m\u001b[38;5;241;43m=\u001b[39;49m\u001b[43mcontext\u001b[49m\u001b[43m)\u001b[49m\n",
      "\u001b[0;31mValidationError\u001b[0m: 1 validation error for Factory\n  Invalid JSON: expected value at line 7 column 1 [type=json_invalid, input_value='\\n\\n\\n\\n\\n\\n<!DOCTYPE ht...n  </body>\\n</html>\\n\\n', input_type=str]\n    For further information visit https://errors.pydantic.dev/2.7/v/json_invalid"
     ]
    }
   ],
   "source": [
    "from pydantic import BaseModel, Field\n",
    "\n",
    "class Sites(BaseModel):\n",
    "    name_ins:str = Field(alias=\"Name_Ins\")\n",
    "    no:str = Field(alias=\"No\")\n",
    "    address:str = Field(alias=\"Address\")\n",
    "    tax_id:str = Field(alias=\"tax_ID_number\")\n",
    "    loc_x:str = Field(alias=\"wgs84aX\")\n",
    "    loc_y:str = Field(alias=\"wgs84aY\")\n",
    "\n",
    "class Factory(BaseModel):\n",
    "    resource_id:str\n",
    "    records:list[Sites]\n",
    "\n",
    "import json\n",
    "with open('NTC_Food_Factorys.json',encoding='utf-8') as file:\n",
    "    content:str = file.read()\n",
    "    fac:Factory = Factory.model_validate_json(content)\n",
    "\n",
    "\n",
    "try:\n",
    "    sites:list[Sites] = fac.records\n",
    "    for site in sites:\n",
    "        print(site)\n",
    "except Exception as err:\n",
    "    print(err)"
   ]
  }
 ],
 "metadata": {
  "kernelspec": {
   "display_name": "Python 3",
   "language": "python",
   "name": "python3"
  },
  "language_info": {
   "codemirror_mode": {
    "name": "ipython",
    "version": 3
   },
   "file_extension": ".py",
   "mimetype": "text/x-python",
   "name": "python",
   "nbconvert_exporter": "python",
   "pygments_lexer": "ipython3",
   "version": "3.10.14"
  }
 },
 "nbformat": 4,
 "nbformat_minor": 2
}
