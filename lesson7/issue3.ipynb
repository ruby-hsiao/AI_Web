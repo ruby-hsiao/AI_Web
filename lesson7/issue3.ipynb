{
 "cells": [
  {
   "cell_type": "code",
   "execution_count": 33,
   "metadata": {},
   "outputs": [
    {
     "name": "stdout",
     "output_type": "stream",
     "text": [
      "G 您好，BMI:22.64，體重:正常範圍\n",
      "Program end\n"
     ]
    }
   ],
   "source": [
    "# Dataclasses\n",
    "from dataclasses import dataclass\n",
    "\n",
    "@dataclass\n",
    "class BMI():\n",
    "    name:str\n",
    "    height:float\n",
    "    weight:float\n",
    "\n",
    "    def bmi(self) -> float:\n",
    "        return round((self.weight / (self.height/100) ** 2), ndigits=2)\n",
    "    \n",
    "    def status(self) ->str:\n",
    "        bmi = self.bmi()\n",
    "        result = \"\"\n",
    "        if bmi < 18.5:\n",
    "            result = \"體重過輕\"\n",
    "        elif bmi < 24:\n",
    "            result = \"正常範圍\"\n",
    "        elif bmi < 27:\n",
    "            result = \"過重\"\n",
    "        elif bmi < 30:\n",
    "            result = \"輕度肥胖\"\t\t\n",
    "        elif bmi < 35:\n",
    "            result = \"中度肥胖\"\n",
    "        else:\n",
    "            result = \"重度肥胖\"\n",
    "        \n",
    "        return result\n",
    "    \n",
    "    \n",
    "    def __repr__(self):\n",
    "        msg = \"\"\n",
    "        msg += f\"{self.name} 您好，BMI:{self.bmi()}，體重:{self.status()}\"\n",
    "        return msg\n",
    "      \n",
    "    \n",
    "try:\n",
    "\t\n",
    "    name = input(\"請輸入姓名:\")\n",
    "    h = float(input(\"請輸入身高(cm):\"))\n",
    "    w = float(input(\"請輸入體重(kg):\"))\n",
    "\n",
    "\n",
    "except Exception as err:\n",
    "    print(\"輸入的身高或體重不是數字: \", err)\n",
    "\n",
    "else:\n",
    "    if w > 0 and h > 0:\n",
    "        b = BMI(name, height=h, weight=w)\n",
    "        print(b)\n",
    "  \n",
    "    else:    \n",
    "        print(\"身高和體重需大於0!\")\n",
    "\n",
    "print(\"Program end\")\n",
    "\n",
    "\n",
    "\n"
   ]
  }
 ],
 "metadata": {
  "kernelspec": {
   "display_name": "Python 3",
   "language": "python",
   "name": "python3"
  },
  "language_info": {
   "codemirror_mode": {
    "name": "ipython",
    "version": 3
   },
   "file_extension": ".py",
   "mimetype": "text/x-python",
   "name": "python",
   "nbconvert_exporter": "python",
   "pygments_lexer": "ipython3",
   "version": "3.10.14"
  }
 },
 "nbformat": 4,
 "nbformat_minor": 2
}
