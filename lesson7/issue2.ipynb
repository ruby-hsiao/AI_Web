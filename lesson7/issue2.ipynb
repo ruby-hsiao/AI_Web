{
 "cells": [
  {
   "cell_type": "code",
   "execution_count": null,
   "metadata": {},
   "outputs": [],
   "source": [
    "# HW#2 BMI class\n",
    "class BMI():\n",
    "    def __init__(self, name:str, weight:float, height:int):\n",
    "        self.n = name\n",
    "        self.w = weight\n",
    "        self.h = height\n",
    "\n",
    "    @property\n",
    "    def bmi(self):\n",
    "        return round((self.w / (self.h/100) ** 2), ndigits=2)\n",
    "\n",
    "    def status(self) -> str:\n",
    "        result = \"\"\n",
    "        if self.bmi < 18.5:\n",
    "            result = \"體重過輕\"\n",
    "        elif self.bmi < 24:\n",
    "            result = \"正常範圍\"\n",
    "        elif self.bmi < 27:\n",
    "            result = \"過重\"\n",
    "        elif self.bmi < 30:\n",
    "            result = \"輕度肥胖\"\t\t\n",
    "        elif self.bmi < 35:\n",
    "            result = \"中度肥胖\"\n",
    "        else:\n",
    "            result = \"重度肥胖\"\n",
    "        \n",
    "        return result\n",
    "\n",
    "try:\n",
    "\t\n",
    "\tname = input(\"請輸入姓名:\")\n",
    "\th = float(input(\"請輸入身高(cm):\"))\n",
    "\tw = float(input(\"請輸入體重(kg):\"))\n",
    "    b = BMI(\"\")\n",
    "\n",
    "except Exception as err:\n",
    "\tprint(\"輸入的身高或體重不是數字: \", err)\n",
    "\n",
    "else:\n",
    "\n",
    "    msg = \"\"\n",
    "    msg += f\"{self.name} 您好，BMI:{sel.bmi}，體重:{}\"\n",
    "\n",
    "\n",
    "\n"
   ]
  }
 ],
 "metadata": {
  "language_info": {
   "name": "python"
  }
 },
 "nbformat": 4,
 "nbformat_minor": 2
}
