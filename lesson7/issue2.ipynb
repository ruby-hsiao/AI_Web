{
 "cells": [
  {
   "cell_type": "code",
   "execution_count": 24,
   "metadata": {},
   "outputs": [
    {
     "name": "stdout",
     "output_type": "stream",
     "text": [
      "11 您好，BMI:19.29，體重:正常範圍\n",
      "Program end\n"
     ]
    }
   ],
   "source": [
    "# HW#2 BMI class\n",
    "class BMI():\n",
    "    def __init__(self, name:str, weight:float, height:float):\n",
    "        self.name = name\n",
    "        self.w = weight\n",
    "        self.h = height\n",
    "\n",
    "    @property\n",
    "    def bmi(self):\n",
    "        return round((self.w / (self.h/100) ** 2), ndigits=2)\n",
    "\n",
    "    def status(self) -> str:\n",
    "        result = \"\"\n",
    "        if self.bmi < 18.5:\n",
    "            result = \"體重過輕\"\n",
    "        elif self.bmi < 24:\n",
    "            result = \"正常範圍\"\n",
    "        elif self.bmi < 27:\n",
    "            result = \"過重\"\n",
    "        elif self.bmi < 30:\n",
    "            result = \"輕度肥胖\"\t\t\n",
    "        elif self.bmi < 35:\n",
    "            result = \"中度肥胖\"\n",
    "        else:\n",
    "            result = \"重度肥胖\"\n",
    "        \n",
    "        return result\n",
    "    \n",
    "    def __repr__(self):\n",
    "        msg = \"\"\n",
    "        msg += f\"{self.name} 您好，BMI:{self.bmi}，體重:{self.status()}\"\n",
    "        return msg\n",
    "\n",
    "\n",
    "try:\n",
    "\t\n",
    "\tname = input(\"請輸入姓名:\")\n",
    "\th = float(input(\"請輸入身高(cm):\"))\n",
    "\tw = float(input(\"請輸入體重(kg):\"))\n",
    "\n",
    "except Exception as err:\n",
    "\tprint(\"輸入的身高或體重不是數字: \", err)\n",
    "\n",
    "else:\n",
    "    if w > 0 and h > 0:\n",
    "        b = BMI(name, w, h)\n",
    "        print(b)\n",
    "\n",
    "    else:    \n",
    "        print(\"身高和體重需大於0\")\n",
    "\n",
    "print(\"Program end\")\n",
    "\n",
    "\n",
    "\n"
   ]
  },
  {
   "cell_type": "code",
   "execution_count": 5,
   "metadata": {},
   "outputs": [
    {
     "name": "stdout",
     "output_type": "stream",
     "text": [
      "<__main__.BMI object at 0x75a310f3ea10>\n"
     ]
    }
   ],
   "source": [
    "class BMI:\n",
    "    def __init__(self, name, weight, height):\n",
    "        self._name = name\n",
    "        self._weight = float(weight)\n",
    "        self._height = float(height)\n",
    "\n",
    "    def __str__(self):\n",
    "        return f'Hello {self.name}, Your BMI:{self.bmi}, Weight status:{self.weight_status(self.bmi)}'\n",
    "    \n",
    "    @property\n",
    "    def name(self):\n",
    "        return self._name\n",
    "\n",
    "    @property\n",
    "    def weight(self):\n",
    "        return self._weight\n",
    "\n",
    "    @property\n",
    "    def height(self):\n",
    "        return self._height\n",
    "\n",
    "    @property\n",
    "    def bmi(self):\n",
    "        return round(self.weight / (self.height/100) ** 2, 1)\n",
    "    \n",
    "    def weight_status(self, data):\n",
    "        if data < 18.5:\n",
    "            return 'Underweight'\n",
    "        elif 18.5 <= data < 24:\n",
    "            return 'Healthy Weight'\n",
    "        elif 24 <= data < 27:\n",
    "            return 'Overweight'\n",
    "        elif 27 <= data < 30:\n",
    "            return 'Obesity class I'\n",
    "        elif 30 <= data < 35:\n",
    "            return 'Obesity class II'\n",
    "        else:\n",
    "            return 'Obesity class III'\n",
    "\n",
    "def get_BMI(): \n",
    "    name = input('Enter Name: ').strip()\n",
    "    weight = input('Enter Weight(kg): ').strip()\n",
    "    height = input('Enter Height(cm): ').strip()\n",
    "    return BMI(name, weight, height)\n",
    "\n",
    "print(get_BMI())\n"
   ]
  }
 ],
 "metadata": {
  "kernelspec": {
   "display_name": "Python 3",
   "language": "python",
   "name": "python3"
  },
  "language_info": {
   "codemirror_mode": {
    "name": "ipython",
    "version": 3
   },
   "file_extension": ".py",
   "mimetype": "text/x-python",
   "name": "python",
   "nbconvert_exporter": "python",
   "pygments_lexer": "ipython3",
   "version": "3.10.14"
  }
 },
 "nbformat": 4,
 "nbformat_minor": 2
}
