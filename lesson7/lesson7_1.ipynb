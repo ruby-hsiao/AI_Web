{
 "cells": [
  {
   "cell_type": "code",
   "execution_count": 6,
   "metadata": {},
   "outputs": [
    {
     "name": "stdout",
     "output_type": "stream",
     "text": [
      "apple\n",
      "banana\n",
      "orange\n"
     ]
    }
   ],
   "source": [
    "fruits = [\"apple\", \"banana\", \"orange\"]\n",
    "n = len(fruits)\n",
    "for i in range(n):\n",
    "    print(fruits[i])"
   ]
  },
  {
   "cell_type": "code",
   "execution_count": 7,
   "metadata": {},
   "outputs": [
    {
     "name": "stdout",
     "output_type": "stream",
     "text": [
      "apple\n",
      "banana\n",
      "orange\n"
     ]
    }
   ],
   "source": [
    "for item in fruits:\n",
    "    print(item)"
   ]
  },
  {
   "cell_type": "code",
   "execution_count": 9,
   "metadata": {},
   "outputs": [
    {
     "name": "stdout",
     "output_type": "stream",
     "text": [
      "apple\n",
      "orange\n"
     ]
    }
   ],
   "source": [
    "for item in fruits:\n",
    "    if not 'b' in item:\n",
    "        print(item)"
   ]
  },
  {
   "cell_type": "code",
   "execution_count": 11,
   "metadata": {},
   "outputs": [
    {
     "name": "stdout",
     "output_type": "stream",
     "text": [
      "('apple', 'banana', 'orange')\n"
     ]
    }
   ],
   "source": [
    "fruits_t:tuple[str] = (\"apple\", \"banana\", \"orange\")\n",
    "print(fruits_t)"
   ]
  },
  {
   "cell_type": "code",
   "execution_count": 13,
   "metadata": {},
   "outputs": [
    {
     "name": "stdout",
     "output_type": "stream",
     "text": [
      "tw Taiwan\n",
      "jp Japan\n"
     ]
    }
   ],
   "source": [
    "codes = {'tw':'Taiwan', 'jp':'Japan'}\n",
    "for item in codes:\n",
    "    print(item, codes[item])"
   ]
  },
  {
   "cell_type": "code",
   "execution_count": 15,
   "metadata": {},
   "outputs": [
    {
     "data": {
      "text/plain": [
       "{'tw': 'Taiwan', 'jp': 'Japan'}"
      ]
     },
     "execution_count": 15,
     "metadata": {},
     "output_type": "execute_result"
    }
   ],
   "source": [
    "dict((('tw','Taiwan'),('jp','Japan')))"
   ]
  },
  {
   "cell_type": "code",
   "execution_count": 16,
   "metadata": {},
   "outputs": [
    {
     "data": {
      "text/plain": [
       "{1, 2, 3}"
      ]
     },
     "execution_count": 16,
     "metadata": {},
     "output_type": "execute_result"
    }
   ],
   "source": [
    "{1,1,2,2,3,3}"
   ]
  },
  {
   "cell_type": "code",
   "execution_count": 17,
   "metadata": {},
   "outputs": [
    {
     "data": {
      "text/plain": [
       "[1, 2, 3]"
      ]
     },
     "execution_count": 17,
     "metadata": {},
     "output_type": "execute_result"
    }
   ],
   "source": [
    "# 轉成list就有index\n",
    "list({1,2,3})"
   ]
  },
  {
   "cell_type": "code",
   "execution_count": 27,
   "metadata": {},
   "outputs": [
    {
     "name": "stdout",
     "output_type": "stream",
     "text": [
      "Ruby\n"
     ]
    }
   ],
   "source": [
    "class Person():\n",
    "    def __init__(self):\n",
    "        self.name = \"Ruby\" # attribute\n",
    "\n",
    "p1 = Person()\n",
    "#type(p1)\n",
    "print(p1.name)\n"
   ]
  },
  {
   "cell_type": "code",
   "execution_count": 34,
   "metadata": {},
   "outputs": [
    {
     "name": "stdout",
     "output_type": "stream",
     "text": [
      "Ginny\n",
      "Ginny Lin\n",
      "<__main__.Person object at 0x7598a8dd55d0>\n"
     ]
    }
   ],
   "source": [
    "class Person():\n",
    "    def __init__(self, n): # 自訂初始化\n",
    "        self.name = n # 建立attribute\n",
    "    \n",
    "p1 = Person(\"Ginny\")\n",
    "print(p1.name)\n",
    "\n",
    "p2 = Person(\"Ginny Lin\")\n",
    "print(p2.name)\n",
    "print(p1)"
   ]
  },
  {
   "cell_type": "code",
   "execution_count": 33,
   "metadata": {},
   "outputs": [
    {
     "name": "stdout",
     "output_type": "stream",
     "text": [
      "Ginny\n",
      "Ginny Lin\n",
      "我是Person的object\n"
     ]
    }
   ],
   "source": [
    "class Person():\n",
    "    def __init__(self, n): # 自訂初始化\n",
    "        self.name = n # 建立attribute\n",
    "    \n",
    "    def __repr__(self):  # print時顯示class實體  \n",
    "        return \"我是Person的object\"\n",
    "    \n",
    "p1 = Person(\"Ginny\")\n",
    "print(p1.name)\n",
    "\n",
    "p2 = Person(\"Ginny Lin\")\n",
    "print(p2.name)\n",
    "print(p1)"
   ]
  }
 ],
 "metadata": {
  "kernelspec": {
   "display_name": "Python 3",
   "language": "python",
   "name": "python3"
  },
  "language_info": {
   "codemirror_mode": {
    "name": "ipython",
    "version": 3
   },
   "file_extension": ".py",
   "mimetype": "text/x-python",
   "name": "python",
   "nbconvert_exporter": "python",
   "pygments_lexer": "ipython3",
   "version": "3.10.14"
  }
 },
 "nbformat": 4,
 "nbformat_minor": 2
}
