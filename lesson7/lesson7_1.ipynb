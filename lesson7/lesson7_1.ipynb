{
 "cells": [
  {
   "cell_type": "code",
   "execution_count": 6,
   "metadata": {},
   "outputs": [
    {
     "name": "stdout",
     "output_type": "stream",
     "text": [
      "apple\n",
      "banana\n",
      "orange\n"
     ]
    }
   ],
   "source": [
    "fruits = [\"apple\", \"banana\", \"orange\"]\n",
    "n = len(fruits)\n",
    "for i in range(n):\n",
    "    print(fruits[i])"
   ]
  },
  {
   "cell_type": "code",
   "execution_count": 7,
   "metadata": {},
   "outputs": [
    {
     "name": "stdout",
     "output_type": "stream",
     "text": [
      "apple\n",
      "banana\n",
      "orange\n"
     ]
    }
   ],
   "source": [
    "for item in fruits:\n",
    "    print(item)"
   ]
  },
  {
   "cell_type": "code",
   "execution_count": 9,
   "metadata": {},
   "outputs": [
    {
     "name": "stdout",
     "output_type": "stream",
     "text": [
      "apple\n",
      "orange\n"
     ]
    }
   ],
   "source": [
    "for item in fruits:\n",
    "    if not 'b' in item:\n",
    "        print(item)"
   ]
  },
  {
   "cell_type": "code",
   "execution_count": 11,
   "metadata": {},
   "outputs": [
    {
     "name": "stdout",
     "output_type": "stream",
     "text": [
      "('apple', 'banana', 'orange')\n"
     ]
    }
   ],
   "source": [
    "fruits_t:tuple[str] = (\"apple\", \"banana\", \"orange\")\n",
    "print(fruits_t)"
   ]
  },
  {
   "cell_type": "code",
   "execution_count": 13,
   "metadata": {},
   "outputs": [
    {
     "name": "stdout",
     "output_type": "stream",
     "text": [
      "tw Taiwan\n",
      "jp Japan\n"
     ]
    }
   ],
   "source": [
    "codes = {'tw':'Taiwan', 'jp':'Japan'}\n",
    "for item in codes:\n",
    "    print(item, codes[item])"
   ]
  },
  {
   "cell_type": "code",
   "execution_count": 15,
   "metadata": {},
   "outputs": [
    {
     "data": {
      "text/plain": [
       "{'tw': 'Taiwan', 'jp': 'Japan'}"
      ]
     },
     "execution_count": 15,
     "metadata": {},
     "output_type": "execute_result"
    }
   ],
   "source": [
    "dict((('tw','Taiwan'),('jp','Japan')))"
   ]
  },
  {
   "cell_type": "code",
   "execution_count": 16,
   "metadata": {},
   "outputs": [
    {
     "data": {
      "text/plain": [
       "{1, 2, 3}"
      ]
     },
     "execution_count": 16,
     "metadata": {},
     "output_type": "execute_result"
    }
   ],
   "source": [
    "{1,1,2,2,3,3}"
   ]
  },
  {
   "cell_type": "code",
   "execution_count": 17,
   "metadata": {},
   "outputs": [
    {
     "data": {
      "text/plain": [
       "[1, 2, 3]"
      ]
     },
     "execution_count": 17,
     "metadata": {},
     "output_type": "execute_result"
    }
   ],
   "source": [
    "# 轉成list就有index\n",
    "list({1,2,3})"
   ]
  },
  {
   "cell_type": "code",
   "execution_count": 27,
   "metadata": {},
   "outputs": [
    {
     "name": "stdout",
     "output_type": "stream",
     "text": [
      "Ruby\n"
     ]
    }
   ],
   "source": [
    "class Person():\n",
    "    def __init__(self):\n",
    "        self.name = \"Ruby\" # attribute\n",
    "\n",
    "p1 = Person()\n",
    "#type(p1)\n",
    "print(p1.name)\n"
   ]
  },
  {
   "cell_type": "code",
   "execution_count": 34,
   "metadata": {},
   "outputs": [
    {
     "name": "stdout",
     "output_type": "stream",
     "text": [
      "Ginny\n",
      "Ginny Lin\n",
      "<__main__.Person object at 0x7598a8dd55d0>\n"
     ]
    }
   ],
   "source": [
    "class Person():\n",
    "    def __init__(self, n): # 自訂初始化\n",
    "        self.name = n # 建立attribute\n",
    "    \n",
    "p1 = Person(\"Ginny\")\n",
    "print(p1.name)\n",
    "\n",
    "p2 = Person(\"Ginny Lin\")\n",
    "print(p2.name)\n",
    "print(p1)"
   ]
  },
  {
   "cell_type": "code",
   "execution_count": 33,
   "metadata": {},
   "outputs": [
    {
     "name": "stdout",
     "output_type": "stream",
     "text": [
      "Ginny\n",
      "Ginny Lin\n",
      "我是Person的object\n"
     ]
    }
   ],
   "source": [
    "class Person():\n",
    "    def __init__(self, n): # 自訂初始化\n",
    "        self.name = n # 建立attribute\n",
    "    \n",
    "    def __repr__(self):  # print時顯示class實體  \n",
    "        return \"我是Person的object\"\n",
    "    \n",
    "p1 = Person(\"Ginny\")\n",
    "print(p1.name)\n",
    "\n",
    "p2 = Person(\"Ginny Lin\")\n",
    "print(p2.name)\n",
    "print(p1)"
   ]
  },
  {
   "cell_type": "code",
   "execution_count": 21,
   "metadata": {},
   "outputs": [],
   "source": [
    "class Person():\n",
    "    def __init__(self, n:str):\n",
    "        self.name = n\n",
    "    \n",
    "    def __repr__(self):\n",
    "        return f\"This's a object of class Person, my name is {self.name}\"\n",
    "\n",
    "class Student(Person):\n",
    "    def __init__(self, name:str, scores:int):\n",
    "        self.scores = scores\n",
    "        super().__init__(name)\n",
    "\n",
    "    def __repr__(self):\n",
    "        return f\"This's a object of class Student, my name is {self.name}\"    \n"
   ]
  },
  {
   "cell_type": "code",
   "execution_count": 22,
   "metadata": {},
   "outputs": [
    {
     "name": "stdout",
     "output_type": "stream",
     "text": [
      "Ruby\n",
      "This's a object of class Person, my name is Ruby\n",
      "Ginny\n",
      "96\n",
      "This's a object of class Student, my name is Ginny\n"
     ]
    }
   ],
   "source": [
    "p1 = Person(\"Ruby\")\n",
    "print(p1.name)\n",
    "print(p1)\n",
    "\n",
    "s1 = Student(\"Ginny\", 96)\n",
    "print(s1.name)\n",
    "print(s1.scores)\n",
    "print(s1)"
   ]
  },
  {
   "cell_type": "code",
   "execution_count": 32,
   "metadata": {},
   "outputs": [
    {
     "name": "stdout",
     "output_type": "stream",
     "text": [
      "<class '__main__.JuniorStudent'>\n",
      "This's Student object!\n",
      "His name is Ray\n",
      "中文 87\n",
      "英文 99\n",
      "數學 92\n",
      "\n",
      "總分 278\n",
      "平均 92.67\n"
     ]
    }
   ],
   "source": [
    "class JuniorStudent(Person):\n",
    "    def __init__(self, n:str, chinese:int, english:int, math:int):\n",
    "        self.name = n\n",
    "        self.__chinese = chinese\n",
    "        self.english = english\n",
    "        self.__math = math\n",
    "    \n",
    "    @property\n",
    "    def chinese(self):\n",
    "        return self.__chinese\n",
    "    \n",
    "    @property\n",
    "    def math(self):\n",
    "        return self.__math\n",
    "\n",
    "\n",
    "    def __repr__(self):\n",
    "        msg = \"\"\n",
    "        msg += \"This's Student object!\\n\"\n",
    "        msg += f\"His name is {self.name}\\n\"\n",
    "        msg += f\"中文 {self.chinese}\\n\"\n",
    "        msg += f\"英文 {self.english}\\n\"\n",
    "        msg += f\"數學 {self.math}\\n\"\n",
    "        return msg\n",
    "    \n",
    "    def sum(self) -> int:\n",
    "        return self.chinese + self.english + self.math\n",
    "    \n",
    "    def average(self) -> float:\n",
    "        return self.sum() / 3\n",
    "\n",
    "s3 = JuniorStudent(\"Ray\", 87, 71, 92)\n",
    "print(type(s3))\n",
    "#s3.chinese = 100\n",
    "s3.english = 99\n",
    "#s.math = 100\n",
    "print(s3)\n",
    "print(f\"總分 {s3.sum()}\")\n",
    "print(f\"平均 {round(s3.average(), ndigits=2)}\")"
   ]
  },
  {
   "cell_type": "code",
   "execution_count": 37,
   "metadata": {},
   "outputs": [
    {
     "name": "stdout",
     "output_type": "stream",
     "text": [
      "100\n",
      "90\n",
      "270\n",
      "90.0\n"
     ]
    }
   ],
   "source": [
    "# Dataclasses\n",
    "from dataclasses import dataclass\n",
    "\n",
    "@dataclass\n",
    "#class NewStudent{}: #未指定參數，故省略{}\n",
    "class NewStudent:\n",
    "    name:str    # type hit一定要說明\n",
    "    chinese:int # 欄位(field)\n",
    "    english:int\n",
    "    math:int\n",
    "\n",
    "    @property\n",
    "    def sum(self):\n",
    "        return self.chinese + self.english + self.math\n",
    "\n",
    "    def avg(self) -> int:\n",
    "        return round(self.sum / 3, ndigits=2)\n",
    "    \n",
    "#NewStudent(\"Ruby\", 100, 90, 80)\n",
    "#指定引數名稱後面都必須用引數名稱\n",
    "ns = NewStudent(\"Ruby\", 100, math=80, english=90)\n",
    "print(ns.chinese)\n",
    "print(ns.english)\n",
    "print(ns.sum)\n",
    "print(ns.avg())"
   ]
  },
  {
   "cell_type": "code",
   "execution_count": null,
   "metadata": {},
   "outputs": [],
   "source": [
    "\n"
   ]
  }
 ],
 "metadata": {
  "kernelspec": {
   "display_name": "Python 3",
   "language": "python",
   "name": "python3"
  },
  "language_info": {
   "codemirror_mode": {
    "name": "ipython",
    "version": 3
   },
   "file_extension": ".py",
   "mimetype": "text/x-python",
   "name": "python",
   "nbconvert_exporter": "python",
   "pygments_lexer": "ipython3",
   "version": "3.10.14"
  }
 },
 "nbformat": 4,
 "nbformat_minor": 2
}
